{
 "cells": [
  {
   "cell_type": "markdown",
   "metadata": {},
   "source": [
    "<a id=\"contents\"></a>\n",
    "\n",
    "# Risk Score Analysis of COVID-19 Data \n",
    "\n",
    "This notebook relates to the exploration of data sets gathered within the USA regarding COVID-19 time-series data from and cause of death data collected from the CDC and collected survey data from client patients.\n",
    "\n",
    "In this notebook we visualize and analyze time-series based data sets related to cause of death mortality and COVID-19.\n",
    "\n",
    "### Table of Contents:\n",
    "* [1. Load Data](#cell1)\n",
    "* [2. Visualize the Data](#cell2)"
   ]
  },
  {
   "cell_type": "code",
   "execution_count": 1,
   "metadata": {},
   "outputs": [
    {
     "name": "stdout",
     "output_type": "stream",
     "text": [
      "Requirement already satisfied: pandas in /opt/conda/envs/Python36/lib/python3.6/site-packages (0.24.1)\n",
      "Requirement already satisfied: matplotlib in /opt/conda/envs/Python36/lib/python3.6/site-packages (3.0.2)\n",
      "Requirement already satisfied: seaborn in /opt/conda/envs/Python36/lib/python3.6/site-packages (0.9.0)\n",
      "Requirement already satisfied: numpy in /opt/conda/envs/Python36/lib/python3.6/site-packages (1.15.4)\n",
      "Requirement already satisfied: python-dateutil>=2.5.0 in /opt/conda/envs/Python36/lib/python3.6/site-packages (from pandas) (2.7.5)\n",
      "Requirement already satisfied: pytz>=2011k in /opt/conda/envs/Python36/lib/python3.6/site-packages (from pandas) (2018.9)\n",
      "Requirement already satisfied: cycler>=0.10 in /opt/conda/envs/Python36/lib/python3.6/site-packages (from matplotlib) (0.10.0)\n",
      "Requirement already satisfied: kiwisolver>=1.0.1 in /opt/conda/envs/Python36/lib/python3.6/site-packages (from matplotlib) (1.0.1)\n",
      "Requirement already satisfied: pyparsing!=2.0.4,!=2.1.2,!=2.1.6,>=2.0.1 in /opt/conda/envs/Python36/lib/python3.6/site-packages (from matplotlib) (2.3.1)\n",
      "Requirement already satisfied: scipy>=0.14.0 in /opt/conda/envs/Python36/lib/python3.6/site-packages (from seaborn) (1.2.0)\n",
      "Requirement already satisfied: six>=1.5 in /opt/conda/envs/Python36/lib/python3.6/site-packages (from python-dateutil>=2.5.0->pandas) (1.12.0)\n",
      "Requirement already satisfied: setuptools in /opt/conda/envs/Python36/lib/python3.6/site-packages (from kiwisolver>=1.0.1->matplotlib) (40.8.0)\n",
      "Collecting mysql-connector-python\n",
      "\u001b[?25l  Downloading https://files.pythonhosted.org/packages/ce/1d/378f92f45fb98d7e033f6a94b0600b8ae496e67ba411b992f536784a3d0d/mysql_connector_python-8.0.21-cp36-cp36m-manylinux1_x86_64.whl (15.8MB)\n",
      "\u001b[K     |████████████████████████████████| 15.8MB 4.5MB/s eta 0:00:01\n",
      "\u001b[?25hRequirement already satisfied: protobuf>=3.0.0 in /opt/conda/envs/Python36/lib/python3.6/site-packages (from mysql-connector-python) (3.11.2)\n",
      "Requirement already satisfied: six>=1.9 in /opt/conda/envs/Python36/lib/python3.6/site-packages (from protobuf>=3.0.0->mysql-connector-python) (1.12.0)\n",
      "Requirement already satisfied: setuptools in /opt/conda/envs/Python36/lib/python3.6/site-packages (from protobuf>=3.0.0->mysql-connector-python) (40.8.0)\n",
      "Installing collected packages: mysql-connector-python\n",
      "Successfully installed mysql-connector-python-8.0.21\n"
     ]
    }
   ],
   "source": [
    "# Installing packages needed for data processing and visualization\n",
    "!pip install pandas matplotlib seaborn numpy \n",
    "!pip install mysql-connector-python"
   ]
  },
  {
   "cell_type": "code",
   "execution_count": 20,
   "metadata": {},
   "outputs": [],
   "source": [
    "# Importing the packages\n",
    "import math\n",
    "import numpy as np\n",
    "import pandas as pd\n",
    "import seaborn as sns\n",
    "# from statistics import mean\n",
    "from pandas import DataFrame as df\n",
    "from matplotlib import pyplot as plt"
   ]
  },
  {
   "cell_type": "markdown",
   "metadata": {},
   "source": [
    "<a id=\"cell1\"></a> [Back to Contents](#contents)\n",
    "\n",
    "### 1. Load Data\n",
    "\n",
    "Read in raw data."
   ]
  },
  {
   "cell_type": "code",
   "execution_count": 21,
   "metadata": {},
   "outputs": [
    {
     "ename": "ModuleNotFoundError",
     "evalue": "No module named 'mysql'",
     "output_type": "error",
     "traceback": [
      "\u001b[0;31m---------------------------------------------------------------------------\u001b[0m",
      "\u001b[0;31mModuleNotFoundError\u001b[0m                       Traceback (most recent call last)",
      "\u001b[0;32m<ipython-input-21-f9ae56f658bb>\u001b[0m in \u001b[0;36m<module>\u001b[0;34m\u001b[0m\n\u001b[1;32m      2\u001b[0m \u001b[0;34m\u001b[0m\u001b[0m\n\u001b[1;32m      3\u001b[0m \u001b[0;31m#Database layer interaction\u001b[0m\u001b[0;34m\u001b[0m\u001b[0;34m\u001b[0m\u001b[0;34m\u001b[0m\u001b[0m\n\u001b[0;32m----> 4\u001b[0;31m \u001b[0;32mimport\u001b[0m \u001b[0mmysql\u001b[0m\u001b[0;34m.\u001b[0m\u001b[0mconnector\u001b[0m\u001b[0;34m\u001b[0m\u001b[0;34m\u001b[0m\u001b[0m\n\u001b[0m\u001b[1;32m      5\u001b[0m \u001b[0;34m\u001b[0m\u001b[0m\n\u001b[1;32m      6\u001b[0m \u001b[0;31m#Cause of Death from CDC from 1962 to 2016\u001b[0m\u001b[0;34m\u001b[0m\u001b[0;34m\u001b[0m\u001b[0;34m\u001b[0m\u001b[0m\n",
      "\u001b[0;31mModuleNotFoundError\u001b[0m: No module named 'mysql'"
     ]
    }
   ],
   "source": [
    "import requests, json\n",
    "\n",
    "#Database layer interaction\n",
    "import mysql.connector\n",
    "\n",
    "#Cause of Death from CDC from 1962 to 2016\n",
    "cdc_cod_data = pd.read_csv('https://raw.githubusercontent.com/kenaitian/covid19-model/master/covid-analysis/leading_cause_of_death/good_data/cdc/Deaths_in_122_U.S._cities_-_1962-2016._122_Cities_Mortality_Reporting_System.csv', na_filter= False)\n",
    "\n",
    "#Cause of Death from NCHS from 1999 to 2017\n",
    "nchs_cod_data = pd.read_csv('https://raw.githubusercontent.com/kenaitian/covid19-model/master/covid-analysis/leading_cause_of_death/good_data/nchs/NCHS_-_Leading_Causes_of_Death__United_States.csv', na_filter= False)\n",
    "\n",
    "#Cause of Death from CDC LCD WISQARS from 1999 to 2018\n",
    "cdc_wisqars_cod_data = pd.read_csv('https://raw.githubusercontent.com/kenaitian/covid19-model/master/covid-analysis/leading_cause_of_death/good_data/cdc/lcd-wisqars.csv', na_filter= False)\n",
    "\n",
    "#Time series USA COVID-19\n",
    "request_covid_USA = requests.get('https://covidtracking.com/api/v1/us/daily.json')\n",
    "covid_USA = request_covid_USA.json()"
   ]
  },
  {
   "cell_type": "markdown",
   "metadata": {},
   "source": [
    "### 2. Visualize Data as Scatterplots"
   ]
  },
  {
   "cell_type": "code",
   "execution_count": 22,
   "metadata": {},
   "outputs": [
    {
     "ename": "NameError",
     "evalue": "name 'covid_USA' is not defined",
     "output_type": "error",
     "traceback": [
      "\u001b[0;31m---------------------------------------------------------------------------\u001b[0m",
      "\u001b[0;31mNameError\u001b[0m                                 Traceback (most recent call last)",
      "\u001b[0;32m<ipython-input-22-cf9f20544a6c>\u001b[0m in \u001b[0;36m<module>\u001b[0;34m\u001b[0m\n\u001b[1;32m      2\u001b[0m \u001b[0mDates\u001b[0m \u001b[0;34m=\u001b[0m \u001b[0;34m[\u001b[0m\u001b[0;34m]\u001b[0m\u001b[0;34m\u001b[0m\u001b[0;34m\u001b[0m\u001b[0m\n\u001b[1;32m      3\u001b[0m \u001b[0mDeathCases\u001b[0m \u001b[0;34m=\u001b[0m \u001b[0;34m[\u001b[0m\u001b[0;34m]\u001b[0m\u001b[0;34m\u001b[0m\u001b[0;34m\u001b[0m\u001b[0m\n\u001b[0;32m----> 4\u001b[0;31m \u001b[0;32mfor\u001b[0m \u001b[0mitem\u001b[0m \u001b[0;32min\u001b[0m \u001b[0mcovid_USA\u001b[0m\u001b[0;34m:\u001b[0m\u001b[0;34m\u001b[0m\u001b[0;34m\u001b[0m\u001b[0m\n\u001b[0m\u001b[1;32m      5\u001b[0m     \u001b[0mDates\u001b[0m\u001b[0;34m.\u001b[0m\u001b[0mappend\u001b[0m\u001b[0;34m(\u001b[0m\u001b[0mitem\u001b[0m\u001b[0;34m[\u001b[0m\u001b[0;34m'date'\u001b[0m\u001b[0;34m]\u001b[0m\u001b[0;34m)\u001b[0m\u001b[0;34m\u001b[0m\u001b[0;34m\u001b[0m\u001b[0m\n\u001b[1;32m      6\u001b[0m     \u001b[0mDeathCases\u001b[0m\u001b[0;34m.\u001b[0m\u001b[0mappend\u001b[0m\u001b[0;34m(\u001b[0m\u001b[0mitem\u001b[0m\u001b[0;34m[\u001b[0m\u001b[0;34m'death'\u001b[0m\u001b[0;34m]\u001b[0m\u001b[0;34m)\u001b[0m\u001b[0;34m\u001b[0m\u001b[0;34m\u001b[0m\u001b[0m\n",
      "\u001b[0;31mNameError\u001b[0m: name 'covid_USA' is not defined"
     ]
    }
   ],
   "source": [
    "#Dates and Deaths COVID-19 Cases\n",
    "Dates = []\n",
    "DeathCases = []\n",
    "for item in covid_USA:\n",
    "    Dates.append(item['date'])\n",
    "    DeathCases.append(item['death'])\n",
    "\n",
    "plt.rcParams[\"figure.figsize\"]=17,5\n",
    "plt.scatter(Dates, DeathCases)\n",
    "plt.xlabel('Date')\n",
    "plt.ylabel('Positive COVID-19 Cases')\n",
    "plt.title('Time Series: COVID-19 mortalities in USA')\n",
    "plt.show()"
   ]
  },
  {
   "cell_type": "code",
   "execution_count": 15,
   "metadata": {},
   "outputs": [
    {
     "ename": "NameError",
     "evalue": "name 'cdc_cod_data' is not defined",
     "output_type": "error",
     "traceback": [
      "\u001b[0;31m---------------------------------------------------------------------------\u001b[0m",
      "\u001b[0;31mNameError\u001b[0m                                 Traceback (most recent call last)",
      "\u001b[0;32m<ipython-input-15-45b89c92f891>\u001b[0m in \u001b[0;36m<module>\u001b[0;34m\u001b[0m\n\u001b[1;32m      2\u001b[0m \u001b[0mCDC_cod_Dates\u001b[0m\u001b[0;34m=\u001b[0m \u001b[0;34m[\u001b[0m\u001b[0;34m]\u001b[0m\u001b[0;34m\u001b[0m\u001b[0;34m\u001b[0m\u001b[0m\n\u001b[1;32m      3\u001b[0m \u001b[0mDeaths_flu_and_pneum\u001b[0m \u001b[0;34m=\u001b[0m \u001b[0;34m[\u001b[0m\u001b[0;34m]\u001b[0m\u001b[0;34m\u001b[0m\u001b[0;34m\u001b[0m\u001b[0m\n\u001b[0;32m----> 4\u001b[0;31m \u001b[0;32mfor\u001b[0m \u001b[0mitem\u001b[0m \u001b[0;32min\u001b[0m \u001b[0mcdc_cod_data\u001b[0m\u001b[0;34m[\u001b[0m\u001b[0;34m'Year'\u001b[0m\u001b[0;34m]\u001b[0m\u001b[0;34m:\u001b[0m\u001b[0;34m\u001b[0m\u001b[0;34m\u001b[0m\u001b[0m\n\u001b[0m\u001b[1;32m      5\u001b[0m     \u001b[0;32mif\u001b[0m \u001b[0;32mnot\u001b[0m \u001b[0mitem\u001b[0m\u001b[0;34m:\u001b[0m\u001b[0;34m\u001b[0m\u001b[0;34m\u001b[0m\u001b[0m\n\u001b[1;32m      6\u001b[0m         \u001b[0;32mcontinue\u001b[0m\u001b[0;34m\u001b[0m\u001b[0;34m\u001b[0m\u001b[0m\n",
      "\u001b[0;31mNameError\u001b[0m: name 'cdc_cod_data' is not defined"
     ]
    }
   ],
   "source": [
    "#Cause of death from CDC from 1962 to 2016 flu and pneumonia DEATHS 45-64 y/o\n",
    "CDC_cod_Dates= []\n",
    "Deaths_flu_and_pneum = []\n",
    "for item in cdc_cod_data['Year']:\n",
    "    if not item:\n",
    "        continue\n",
    "    else:\n",
    "        CDC_cod_Dates.append(item)\n",
    "for item in cdc_cod_data['Pneumonia and Influenza Deaths']:\n",
    "    if not item:\n",
    "        Deaths_flu_and_pneum.append(0)\n",
    "    else:\n",
    "        Deaths_flu_and_pneum.append(int(item))\n",
    "\n",
    "plt.figure(figsize=(20, 5))\n",
    "plt.scatter(CDC_cod_Dates, Deaths_flu_and_pneum)\n",
    "plt.xlabel('Year')\n",
    "plt.ylabel('Pneumonia and Influenza Deaths')\n",
    "plt.title('CDC Cause of Death from 1962 to 2016: Years vs Pneumonia and Influenza Deaths')\n",
    "plt.show()"
   ]
  },
  {
   "cell_type": "code",
   "execution_count": 16,
   "metadata": {},
   "outputs": [
    {
     "ename": "NameError",
     "evalue": "name 'nchs_cod_data' is not defined",
     "output_type": "error",
     "traceback": [
      "\u001b[0;31m---------------------------------------------------------------------------\u001b[0m",
      "\u001b[0;31mNameError\u001b[0m                                 Traceback (most recent call last)",
      "\u001b[0;32m<ipython-input-16-b70a9795dbc1>\u001b[0m in \u001b[0;36m<module>\u001b[0;34m\u001b[0m\n\u001b[1;32m      2\u001b[0m \u001b[0mNCHS_cod_Dates\u001b[0m \u001b[0;34m=\u001b[0m \u001b[0;34m[\u001b[0m\u001b[0;34m]\u001b[0m\u001b[0;34m\u001b[0m\u001b[0;34m\u001b[0m\u001b[0m\n\u001b[1;32m      3\u001b[0m \u001b[0mDeaths_nchs\u001b[0m \u001b[0;34m=\u001b[0m \u001b[0;34m[\u001b[0m\u001b[0;34m]\u001b[0m\u001b[0;34m\u001b[0m\u001b[0;34m\u001b[0m\u001b[0m\n\u001b[0;32m----> 4\u001b[0;31m \u001b[0;32mfor\u001b[0m \u001b[0mitem\u001b[0m \u001b[0;32min\u001b[0m \u001b[0mnchs_cod_data\u001b[0m\u001b[0;34m[\u001b[0m\u001b[0;34m'Year'\u001b[0m\u001b[0;34m]\u001b[0m\u001b[0;34m:\u001b[0m\u001b[0;34m\u001b[0m\u001b[0;34m\u001b[0m\u001b[0m\n\u001b[0m\u001b[1;32m      5\u001b[0m     \u001b[0;32mif\u001b[0m \u001b[0;32mnot\u001b[0m \u001b[0mitem\u001b[0m\u001b[0;34m:\u001b[0m\u001b[0;34m\u001b[0m\u001b[0;34m\u001b[0m\u001b[0m\n\u001b[1;32m      6\u001b[0m         \u001b[0;32mcontinue\u001b[0m\u001b[0;34m\u001b[0m\u001b[0;34m\u001b[0m\u001b[0m\n",
      "\u001b[0;31mNameError\u001b[0m: name 'nchs_cod_data' is not defined"
     ]
    }
   ],
   "source": [
    "#Cause of death from NCHS from 1999 to 2017\n",
    "NCHS_cod_Dates = []\n",
    "Deaths_nchs = []\n",
    "for item in nchs_cod_data['Year']:\n",
    "    if not item:\n",
    "        continue\n",
    "    else:\n",
    "        NCHS_cod_Dates.append(item)\n",
    "for item in nchs_cod_data['Deaths']:\n",
    "    if not item:\n",
    "        continue\n",
    "    else:\n",
    "        Deaths_nchs.append(item)\n",
    "\n",
    "fixed_nchs_dates = NCHS_cod_Dates.copy()\n",
    "fixed_nchs_deaths = Deaths_nchs.copy()\n",
    "fixed_nchs_dates.reverse()\n",
    "fixed_nchs_deaths.reverse()\n",
    "\n",
    "plt.figure(figsize=(20, 5))\n",
    "plt.scatter(NCHS_cod_Dates, Deaths_nchs)\n",
    "plt.xlabel('Year')\n",
    "plt.ylabel('Deaths from Pre-Existing Conditions')\n",
    "plt.title('NCHS Cause of Death from 1999 to 2017: All Deaths from Pre-existing Conditions')\n",
    "plt.show()"
   ]
  },
  {
   "cell_type": "code",
   "execution_count": 17,
   "metadata": {},
   "outputs": [
    {
     "ename": "NameError",
     "evalue": "name 'cdc_wisqars_cod_data' is not defined",
     "output_type": "error",
     "traceback": [
      "\u001b[0;31m---------------------------------------------------------------------------\u001b[0m",
      "\u001b[0;31mNameError\u001b[0m                                 Traceback (most recent call last)",
      "\u001b[0;32m<ipython-input-17-36197f056633>\u001b[0m in \u001b[0;36m<module>\u001b[0;34m\u001b[0m\n\u001b[1;32m      2\u001b[0m \u001b[0mcdc_wisqars_ages\u001b[0m \u001b[0;34m=\u001b[0m \u001b[0;34m[\u001b[0m\u001b[0;34m]\u001b[0m\u001b[0;34m\u001b[0m\u001b[0;34m\u001b[0m\u001b[0m\n\u001b[1;32m      3\u001b[0m \u001b[0mcdc_wisqars_deaths\u001b[0m \u001b[0;34m=\u001b[0m \u001b[0;34m[\u001b[0m\u001b[0;34m]\u001b[0m\u001b[0;34m\u001b[0m\u001b[0;34m\u001b[0m\u001b[0m\n\u001b[0;32m----> 4\u001b[0;31m \u001b[0;32mfor\u001b[0m \u001b[0mitem\u001b[0m \u001b[0;32min\u001b[0m \u001b[0mcdc_wisqars_cod_data\u001b[0m\u001b[0;34m[\u001b[0m\u001b[0;34m'Age Group'\u001b[0m\u001b[0;34m]\u001b[0m\u001b[0;34m:\u001b[0m\u001b[0;34m\u001b[0m\u001b[0;34m\u001b[0m\u001b[0m\n\u001b[0m\u001b[1;32m      5\u001b[0m     \u001b[0;32mif\u001b[0m \u001b[0;32mnot\u001b[0m \u001b[0mitem\u001b[0m\u001b[0;34m:\u001b[0m\u001b[0;34m\u001b[0m\u001b[0;34m\u001b[0m\u001b[0m\n\u001b[1;32m      6\u001b[0m         \u001b[0;32mcontinue\u001b[0m\u001b[0;34m\u001b[0m\u001b[0;34m\u001b[0m\u001b[0m\n",
      "\u001b[0;31mNameError\u001b[0m: name 'cdc_wisqars_cod_data' is not defined"
     ]
    }
   ],
   "source": [
    "#Cause of death from CDC LCD WISQARS from 1999 to 2018\n",
    "cdc_wisqars_ages = []\n",
    "cdc_wisqars_deaths = []\n",
    "for item in cdc_wisqars_cod_data['Age Group']:\n",
    "    if not item:\n",
    "        continue\n",
    "    else:\n",
    "        cdc_wisqars_ages.append(item)\n",
    "for item in cdc_wisqars_cod_data['Deaths']:\n",
    "    if not item:\n",
    "        continue\n",
    "    else:\n",
    "        cdc_wisqars_deaths.append(item)\n",
    "\n",
    "plt.figure(figsize=(20, 5))\n",
    "plt.scatter(cdc_wisqars_ages, cdc_wisqars_deaths)\n",
    "plt.xlabel('Age Groups')\n",
    "plt.ylabel('Deaths from Pre-Existing Conditions')\n",
    "plt.title('CDC WISQARS Cause of Death from 1999 to 2018: All Deaths from Pre-existing Conditions')\n",
    "plt.show()"
   ]
  },
  {
   "cell_type": "code",
   "execution_count": 18,
   "metadata": {},
   "outputs": [
    {
     "ename": "NameError",
     "evalue": "name 'mysql' is not defined",
     "output_type": "error",
     "traceback": [
      "\u001b[0;31m---------------------------------------------------------------------------\u001b[0m",
      "\u001b[0;31mNameError\u001b[0m                                 Traceback (most recent call last)",
      "\u001b[0;32m<ipython-input-18-eab705e83ba2>\u001b[0m in \u001b[0;36m<module>\u001b[0;34m\u001b[0m\n\u001b[0;32m----> 1\u001b[0;31m mydb = mysql.connector.connect(\n\u001b[0m\u001b[1;32m      2\u001b[0m   \u001b[0muser\u001b[0m\u001b[0;34m=\u001b[0m\u001b[0;34m\"wcadmin\"\u001b[0m\u001b[0;34m,\u001b[0m\u001b[0;34m\u001b[0m\u001b[0;34m\u001b[0m\u001b[0m\n\u001b[1;32m      3\u001b[0m   \u001b[0mhost\u001b[0m\u001b[0;34m=\u001b[0m\u001b[0;34m\"mysql-code2020-db1.cngsuwoginmf.us-east-1.rds.amazonaws.com\"\u001b[0m\u001b[0;34m,\u001b[0m\u001b[0;34m\u001b[0m\u001b[0;34m\u001b[0m\u001b[0m\n\u001b[1;32m      4\u001b[0m   \u001b[0mpasswd\u001b[0m\u001b[0;34m=\u001b[0m\u001b[0;34m\"Mycaresec1\"\u001b[0m\u001b[0;34m,\u001b[0m\u001b[0;34m\u001b[0m\u001b[0;34m\u001b[0m\u001b[0m\n\u001b[1;32m      5\u001b[0m   \u001b[0mdatabase\u001b[0m\u001b[0;34m=\u001b[0m\u001b[0;34m'wcadb1'\u001b[0m\u001b[0;34m\u001b[0m\u001b[0;34m\u001b[0m\u001b[0m\n",
      "\u001b[0;31mNameError\u001b[0m: name 'mysql' is not defined"
     ]
    }
   ],
   "source": [
    "mydb = mysql.connector.connect(\n",
    "  user=\"wcadmin\",\n",
    "  host=\"mysql-code2020-db1.cngsuwoginmf.us-east-1.rds.amazonaws.com\",\n",
    "  passwd=\"Mycaresec1\",\n",
    "  database='wcadb1'\n",
    ")\n",
    "\n",
    "#Set a cursor for querying\n",
    "cursor = mydb.cursor()\n",
    "\n",
    "#Use a list of conditions and risks to match against the client patient\n",
    "conditions_risks = [\"Diabetes\", \"Congestive Heart Failure\", \"Asthma\", \"COPD\", \"Heart Disease\", \"Cancer\", \"Smoke\", \"HIV\", \"Breathing Difficulty\"]\n",
    "\n",
    "#Fetch ClientIDs\n",
    "\n",
    "query = (\n",
    "    \"SELECT ClientID FROM ClientPatient\"\n",
    ")\n",
    "\n",
    "cursor.execute(query)\n",
    "results = list(cursor.fetchall())\n",
    "result_conv = str(results)\n",
    "import re\n",
    "result_conv_cleaned = re.findall(r\"\\d+\", result_conv)\n",
    "client_ids = result_conv_cleaned\n",
    "#print(client_ids)\n",
    "\n",
    "risk_ids = []\n",
    "risk_scores = []\n",
    "for client_id in client_ids:\n",
    "    #Use ClientID to find pre-existing conditions and risks\n",
    "    query_pre_existing = (\n",
    "        \"\"\"SELECT MedHistory, MedHistory2, DxAllergyReact FROM ClientMedicalHistory \n",
    "           WHERE ClientID = '\"\"\"+client_id+\"\"\"' \n",
    "                 AND PharmacyCard_MI != 'Test' AND PharmacyCard_MI != 'Test1' AND PharmacyCard_FN != ''\n",
    "                 AND PharmacyCard_MI != ''\"\"\"\n",
    "    )\n",
    "    cursor.execute(query_pre_existing)\n",
    "    results_pre_existing = cursor.fetchall()\n",
    "    results_pre_existing_conv = str(results_pre_existing)\n",
    "    #print(results_pre_existing_conv)\n",
    "\n",
    "    #Split the dirty string of collected pre-existing conditions and risks from client patient\n",
    "    results_pre_existing_list_dirty = results_pre_existing_conv.split('|')\n",
    "    #print(results_pre_existing_list_dirty)\n",
    "\n",
    "    #Clean the dirty string of pre-existing conditions and risks\n",
    "    results_pre_existing_list_cleaned = []\n",
    "    for condition in results_pre_existing_list_dirty:\n",
    "        if any(risk in condition for risk in conditions_risks):\n",
    "            results_pre_existing_list_cleaned.append(condition)\n",
    "    #print(results_pre_existing_list_cleaned)\n",
    "\n",
    "    #Calculate raw risk score\n",
    "    risk_score = len(results_pre_existing_list_cleaned)/len(conditions_risks)\n",
    "    #print(risk_score)\n",
    "    \n",
    "    risk_scores.append(risk_score)\n",
    "#print(risk_scores)\n",
    "\n",
    "plt.rcParams[\"figure.figsize\"]=17,5\n",
    "plt.scatter(client_ids, risk_scores)\n",
    "plt.xlabel('Clients')\n",
    "plt.ylabel('Risk Scores')\n",
    "plt.title('Clients and their Risk Scores')\n",
    "plt.show()\n",
    "\n",
    "#Close DB connection\n",
    "cursor.close()\n",
    "# mydb.close() We persist this MySql connection forward"
   ]
  },
  {
   "cell_type": "code",
   "execution_count": 3,
   "metadata": {},
   "outputs": [
    {
     "name": "stdout",
     "output_type": "stream",
     "text": [
      "Test 12\n",
      "5\n",
      "4\n",
      "6\n",
      "4\n",
      "3\n",
      "7\n",
      "2\n",
      "1\n",
      "4\n",
      "3\n",
      "8\n",
      "1\n",
      "3\n",
      "2\n",
      "5\n",
      "We finished!\n",
      "Mean 4.0\n"
     ]
    }
   ],
   "source": [
    "# Compute a Contact Risk Score profile of 2 values - Mean and Mode\n",
    "# Average risk, the Mode (Frequency distribution), the Median for reference\n",
    "\n",
    "meanRisk = 0\n",
    "modeRisk = 0\n",
    "\n",
    "# Database values entered Risk Ratings (1 to 10) scaled per the Risk Rating Chart descriptions of each contact's \"Potential or Perecieved Risk for Covid 19 infection\"\n",
    "# Contacts from 1 to 15 represented, with Contacts up to 20 for application Prototype MVP supported, and \"unlimited\" number of Contacts supported for final GA release\n",
    "contactRisks = [5, 4, 6, 4, 3, 7, 2, 1, 4, 3, 8, 1, 3, 2, 5]\n",
    "\n",
    "# List check output - test\n",
    "print (\"Test\", contactRisks[0]+contactRisks[4]+contactRisks[8])\n",
    "\n",
    "for x in contactRisks:\n",
    "    print(x)\n",
    "    \n",
    "else:\n",
    "  print(\"We finished!\")\n",
    "\n",
    "# meanRisk = mean(contactRisks)\n",
    "meanRisk = sum(contactRisks) / len(contactRisks)\n",
    "meanRisk = round(meanRisk, 0)\n",
    "print (\"Mean - Contact Risk Score\", meanRisk)\n",
    "\n"
   ]
  },
  {
   "cell_type": "code",
   "execution_count": null,
   "metadata": {},
   "outputs": [],
   "source": []
  },
  {
   "cell_type": "code",
   "execution_count": null,
   "metadata": {},
   "outputs": [],
   "source": []
  }
 ],
 "metadata": {
  "kernelspec": {
   "display_name": "Python 3.6",
   "language": "python",
   "name": "python3"
  },
  "language_info": {
   "codemirror_mode": {
    "name": "ipython",
    "version": 3
   },
   "file_extension": ".py",
   "mimetype": "text/x-python",
   "name": "python",
   "nbconvert_exporter": "python",
   "pygments_lexer": "ipython3",
   "version": "3.6.9"
  }
 },
 "nbformat": 4,
 "nbformat_minor": 2
}
